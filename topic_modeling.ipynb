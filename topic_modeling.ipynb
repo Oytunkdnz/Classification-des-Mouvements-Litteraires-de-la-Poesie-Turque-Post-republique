{
 "cells": [
  {
   "cell_type": "code",
   "execution_count": 1,
   "metadata": {
    "colab": {
     "base_uri": "https://localhost:8080/"
    },
    "executionInfo": {
     "elapsed": 4714,
     "status": "ok",
     "timestamp": 1642789445932,
     "user": {
      "displayName": "Reşat Yıldırım",
      "photoUrl": "https://lh3.googleusercontent.com/a/default-user=s64",
      "userId": "04239401281267054666"
     },
     "user_tz": -180
    },
    "id": "4nrTtsIqgBbc",
    "outputId": "2266295c-711d-4360-ea04-869499342d86"
   },
   "outputs": [
    {
     "name": "stdout",
     "output_type": "stream",
     "text": [
      "zsh:1: command not found: gdown\r\n"
     ]
    }
   ],
   "source": [
    "#!gdown --id 1ZFNwnzmgjyzDfyDBwhEw2dsybo3IydQX.\n",
    "#!gdown --id 1udQeAk486zrjuwLzqUehQ1yEuqMYxTFP \n",
    "!gdown --id 1GazagluSnRRE73lNNZc26P68_Ld8sIs3 "
   ]
  },
  {
   "cell_type": "code",
   "execution_count": 4,
   "metadata": {
    "colab": {
     "base_uri": "https://localhost:8080/",
     "height": 411
    },
    "executionInfo": {
     "elapsed": 6623,
     "status": "ok",
     "timestamp": 1642789453430,
     "user": {
      "displayName": "Reşat Yıldırım",
      "photoUrl": "https://lh3.googleusercontent.com/a/default-user=s64",
      "userId": "04239401281267054666"
     },
     "user_tz": -180
    },
    "id": "sNkg3I-NgBJ2",
    "outputId": "387c5142-5add-4c5d-d15c-9119ddde8b28"
   },
   "outputs": [
    {
     "data": {
      "text/plain": "         kategori                                             icerik\n0      go.beshece  _x000C_ÖMER  BEDRETTİN \\nBÜTÜN  ESERLERİ\\n\\n_x...\n1      go.beshece  f eıti \\n}Qzıyı a \\nCo'naN \\n\\nlJiKayesi \\n\\nO...\n2   go.yedimesale  _x000C__x000C_ZiYA OSMAN  SABA \\n\\nCÜMLEMiZ \\n...\n3            gvs.  _x000C_Şükrü Erbaş\\n\\n1953’te  Yozgat’ta  doğd...\n4       gvs.garip  _x000C__x000C_İÇİNDEKİLER\\n\\nKİTAPLARINA GİRME...\n5      gvs.ikinci  İLHAN BERK\\n\\n\\t\\t\\tAşk Tahtı\\n\\n\\t\\t\\tToplu Ş...\n6      gvs.ikinci  Edip Cansever\\n\\nBen Ruhi Bey Nasılım\\n\\n\\n\\nI...\n7      gvs.ikinci  Edip Cansever\\n\\n\\n\\nBezik Oynayan Kadınlar\\n\\...\n8      gvs.ikinci  Yaşamı\\n\\n\\n\\nİstanbul'daki ilköğreniminden so...\n9      gvs.ikinci  yerçekimli karanfil\\n\\n(Toplu Şiirleri I)\\n\\nE...\n10     gvs.ikinci  \\t\\t\\tEDİP CANSEVER\\n\\n\\nGelmiş Bulundum\\n\\n\\t...\n11     gvs.ikinci  HIZIRLA KIRK SAAT\\nŞ İ İ R L E R   III\\n_x000C...\n12     gvs.ikinci  _x000C_CEMAL SÜREYA\\n\\n\\n Üstü Kalsın\\n  Seçme...\n13     gvs.ikinci  _x000C_ ÜVERCİNKA\\n\\n\\nCEMAL SÜREYA\\n_x000C_  ...\n14     gvs.ikinci  YORT SAVUl\\n_x000C_Ece Ayhan\\n\\nYort Savul\\n_x...\n15         islami  _x000C_                  BÜYÜ'SÜN, YAZ!\\n     ...\n16         islami  Necip Fazıl Kısakürek\\n\\n\\n\\nÇile\\n\\n\\n\\nBüyük...\n17         islami  Erbain\\n\\n\\nErbain\\n\\nismet özel\\n\\nSABAH AVAR...\n18         islami  Ebubekir Eroğlu\\n\\n\\n\\nŞAHİTSİZ VAKİTLER\\n\\n\\n...\n19         islami  _x000C__x000C_Cahit Zarifoğlu Kronolojik Biyog...\n20       toplumcu  AHMED ARİF ŞİİRLERİ\\nAĞLAMAK\\nAğlamak\\nBazı ac...\n21       toplumcu  i··'\\n\\nJ\\n\\n: 'ti\\n\\n'\\n\\n-\\n\\nBehçet Necatig...\n22       toplumcu  •\\n\\nCahit Külebi\\nBütün Şiirleri\\n\\n_x000C__x...\n23       toplumcu  _x000C_AHMET TELLİ\\n•\\nKALBİM UNUT BU ŞİİRİ\\n\\...\n24       toplumcu  NAZlM HiKMET\\n•\\n\\nBütün\\nŞiirleri\\n\\nom o\\n\\n...\n25       toplumcu  _x000C_BUTUN ŞİİRLERİ\\n\\nSabahattin Ali (25 Şu...",
      "text/html": "<div>\n<style scoped>\n    .dataframe tbody tr th:only-of-type {\n        vertical-align: middle;\n    }\n\n    .dataframe tbody tr th {\n        vertical-align: top;\n    }\n\n    .dataframe thead th {\n        text-align: right;\n    }\n</style>\n<table border=\"1\" class=\"dataframe\">\n  <thead>\n    <tr style=\"text-align: right;\">\n      <th></th>\n      <th>kategori</th>\n      <th>icerik</th>\n    </tr>\n  </thead>\n  <tbody>\n    <tr>\n      <th>0</th>\n      <td>go.beshece</td>\n      <td>_x000C_ÖMER  BEDRETTİN \\nBÜTÜN  ESERLERİ\\n\\n_x...</td>\n    </tr>\n    <tr>\n      <th>1</th>\n      <td>go.beshece</td>\n      <td>f eıti \\n}Qzıyı a \\nCo'naN \\n\\nlJiKayesi \\n\\nO...</td>\n    </tr>\n    <tr>\n      <th>2</th>\n      <td>go.yedimesale</td>\n      <td>_x000C__x000C_ZiYA OSMAN  SABA \\n\\nCÜMLEMiZ \\n...</td>\n    </tr>\n    <tr>\n      <th>3</th>\n      <td>gvs.</td>\n      <td>_x000C_Şükrü Erbaş\\n\\n1953’te  Yozgat’ta  doğd...</td>\n    </tr>\n    <tr>\n      <th>4</th>\n      <td>gvs.garip</td>\n      <td>_x000C__x000C_İÇİNDEKİLER\\n\\nKİTAPLARINA GİRME...</td>\n    </tr>\n    <tr>\n      <th>5</th>\n      <td>gvs.ikinci</td>\n      <td>İLHAN BERK\\n\\n\\t\\t\\tAşk Tahtı\\n\\n\\t\\t\\tToplu Ş...</td>\n    </tr>\n    <tr>\n      <th>6</th>\n      <td>gvs.ikinci</td>\n      <td>Edip Cansever\\n\\nBen Ruhi Bey Nasılım\\n\\n\\n\\nI...</td>\n    </tr>\n    <tr>\n      <th>7</th>\n      <td>gvs.ikinci</td>\n      <td>Edip Cansever\\n\\n\\n\\nBezik Oynayan Kadınlar\\n\\...</td>\n    </tr>\n    <tr>\n      <th>8</th>\n      <td>gvs.ikinci</td>\n      <td>Yaşamı\\n\\n\\n\\nİstanbul'daki ilköğreniminden so...</td>\n    </tr>\n    <tr>\n      <th>9</th>\n      <td>gvs.ikinci</td>\n      <td>yerçekimli karanfil\\n\\n(Toplu Şiirleri I)\\n\\nE...</td>\n    </tr>\n    <tr>\n      <th>10</th>\n      <td>gvs.ikinci</td>\n      <td>\\t\\t\\tEDİP CANSEVER\\n\\n\\nGelmiş Bulundum\\n\\n\\t...</td>\n    </tr>\n    <tr>\n      <th>11</th>\n      <td>gvs.ikinci</td>\n      <td>HIZIRLA KIRK SAAT\\nŞ İ İ R L E R   III\\n_x000C...</td>\n    </tr>\n    <tr>\n      <th>12</th>\n      <td>gvs.ikinci</td>\n      <td>_x000C_CEMAL SÜREYA\\n\\n\\n Üstü Kalsın\\n  Seçme...</td>\n    </tr>\n    <tr>\n      <th>13</th>\n      <td>gvs.ikinci</td>\n      <td>_x000C_ ÜVERCİNKA\\n\\n\\nCEMAL SÜREYA\\n_x000C_  ...</td>\n    </tr>\n    <tr>\n      <th>14</th>\n      <td>gvs.ikinci</td>\n      <td>YORT SAVUl\\n_x000C_Ece Ayhan\\n\\nYort Savul\\n_x...</td>\n    </tr>\n    <tr>\n      <th>15</th>\n      <td>islami</td>\n      <td>_x000C_                  BÜYÜ'SÜN, YAZ!\\n     ...</td>\n    </tr>\n    <tr>\n      <th>16</th>\n      <td>islami</td>\n      <td>Necip Fazıl Kısakürek\\n\\n\\n\\nÇile\\n\\n\\n\\nBüyük...</td>\n    </tr>\n    <tr>\n      <th>17</th>\n      <td>islami</td>\n      <td>Erbain\\n\\n\\nErbain\\n\\nismet özel\\n\\nSABAH AVAR...</td>\n    </tr>\n    <tr>\n      <th>18</th>\n      <td>islami</td>\n      <td>Ebubekir Eroğlu\\n\\n\\n\\nŞAHİTSİZ VAKİTLER\\n\\n\\n...</td>\n    </tr>\n    <tr>\n      <th>19</th>\n      <td>islami</td>\n      <td>_x000C__x000C_Cahit Zarifoğlu Kronolojik Biyog...</td>\n    </tr>\n    <tr>\n      <th>20</th>\n      <td>toplumcu</td>\n      <td>AHMED ARİF ŞİİRLERİ\\nAĞLAMAK\\nAğlamak\\nBazı ac...</td>\n    </tr>\n    <tr>\n      <th>21</th>\n      <td>toplumcu</td>\n      <td>i··'\\n\\nJ\\n\\n: 'ti\\n\\n'\\n\\n-\\n\\nBehçet Necatig...</td>\n    </tr>\n    <tr>\n      <th>22</th>\n      <td>toplumcu</td>\n      <td>•\\n\\nCahit Külebi\\nBütün Şiirleri\\n\\n_x000C__x...</td>\n    </tr>\n    <tr>\n      <th>23</th>\n      <td>toplumcu</td>\n      <td>_x000C_AHMET TELLİ\\n•\\nKALBİM UNUT BU ŞİİRİ\\n\\...</td>\n    </tr>\n    <tr>\n      <th>24</th>\n      <td>toplumcu</td>\n      <td>NAZlM HiKMET\\n•\\n\\nBütün\\nŞiirleri\\n\\nom o\\n\\n...</td>\n    </tr>\n    <tr>\n      <th>25</th>\n      <td>toplumcu</td>\n      <td>_x000C_BUTUN ŞİİRLERİ\\n\\nSabahattin Ali (25 Şu...</td>\n    </tr>\n  </tbody>\n</table>\n</div>"
     },
     "execution_count": 4,
     "metadata": {},
     "output_type": "execute_result"
    }
   ],
   "source": [
    "import pandas as pd\n",
    "sampled = pd.read_excel(\"corpus.xlsx\")#.sample(frac=.01)\n",
    "sampled"
   ]
  },
  {
   "cell_type": "code",
   "execution_count": 4,
   "metadata": {
    "colab": {
     "base_uri": "https://localhost:8080/",
     "height": 397
    },
    "executionInfo": {
     "elapsed": 13444,
     "status": "error",
     "timestamp": 1642789466848,
     "user": {
      "displayName": "Reşat Yıldırım",
      "photoUrl": "https://lh3.googleusercontent.com/a/default-user=s64",
      "userId": "04239401281267054666"
     },
     "user_tz": -180
    },
    "id": "SsE3G0tPB6kR",
    "outputId": "3122d1b3-59f4-42a9-f1a6-6b63e2344526"
   },
   "outputs": [
    {
     "ename": "KeyboardInterrupt",
     "evalue": "ignored",
     "output_type": "error",
     "traceback": [
      "\u001B[0;31m---------------------------------------------------------------------------\u001B[0m",
      "\u001B[0;31mKeyboardInterrupt\u001B[0m                         Traceback (most recent call last)",
      "\u001B[0;32m<ipython-input-4-09591976a8f9>\u001B[0m in \u001B[0;36m<module>\u001B[0;34m()\u001B[0m\n\u001B[1;32m      5\u001B[0m \u001B[0mpattern\u001B[0m \u001B[0;34m=\u001B[0m \u001B[0;34mr'(([\\+]90?)|([0]?))([ ]?)((\\([0-9]{3}\\))|([0-9]{3}))([ ]?)([0-9]{3})(\\s*[\\-]?)([0-9]{2})(\\s*[\\-]?)([0-9]{2})'\u001B[0m\u001B[0;34m\u001B[0m\u001B[0;34m\u001B[0m\u001B[0m\n\u001B[1;32m      6\u001B[0m \u001B[0;31m#print([i for i in tweets_df[tweets_df['Text'].str.contains(pattern)].Text])\u001B[0m\u001B[0;34m\u001B[0m\u001B[0;34m\u001B[0m\u001B[0;34m\u001B[0m\u001B[0m\n\u001B[0;32m----> 7\u001B[0;31m \u001B[0msampled\u001B[0m\u001B[0;34m[\u001B[0m\u001B[0;34m'Text'\u001B[0m\u001B[0;34m]\u001B[0m \u001B[0;34m=\u001B[0m \u001B[0msampled\u001B[0m\u001B[0;34m[\u001B[0m\u001B[0;34m'Text'\u001B[0m\u001B[0;34m]\u001B[0m\u001B[0;34m.\u001B[0m\u001B[0mstr\u001B[0m\u001B[0;34m.\u001B[0m\u001B[0mreplace\u001B[0m\u001B[0;34m(\u001B[0m\u001B[0mpattern\u001B[0m\u001B[0;34m,\u001B[0m \u001B[0;34m' contactnumber '\u001B[0m\u001B[0;34m,\u001B[0m \u001B[0mregex\u001B[0m\u001B[0;34m=\u001B[0m\u001B[0;32mTrue\u001B[0m\u001B[0;34m)\u001B[0m\u001B[0;34m\u001B[0m\u001B[0;34m\u001B[0m\u001B[0m\n\u001B[0m\u001B[1;32m      8\u001B[0m \u001B[0msampled\u001B[0m\u001B[0;34m[\u001B[0m\u001B[0;34m'Text'\u001B[0m\u001B[0;34m]\u001B[0m \u001B[0;34m=\u001B[0m \u001B[0msampled\u001B[0m\u001B[0;34m[\u001B[0m\u001B[0;34m'Text'\u001B[0m\u001B[0;34m]\u001B[0m\u001B[0;34m.\u001B[0m\u001B[0mstr\u001B[0m\u001B[0;34m.\u001B[0m\u001B[0mreplace\u001B[0m\u001B[0;34m(\u001B[0m\u001B[0;34mr'http\\S+$'\u001B[0m\u001B[0;34m,\u001B[0m \u001B[0;34m' imagelink '\u001B[0m\u001B[0;34m)\u001B[0m\u001B[0;34m\u001B[0m\u001B[0;34m\u001B[0m\u001B[0m\n\u001B[1;32m      9\u001B[0m \u001B[0msampled\u001B[0m\u001B[0;34m[\u001B[0m\u001B[0;34m'Text'\u001B[0m\u001B[0;34m]\u001B[0m \u001B[0;34m=\u001B[0m \u001B[0msampled\u001B[0m\u001B[0;34m[\u001B[0m\u001B[0;34m'Text'\u001B[0m\u001B[0;34m]\u001B[0m\u001B[0;34m.\u001B[0m\u001B[0mstr\u001B[0m\u001B[0;34m.\u001B[0m\u001B[0mreplace\u001B[0m\u001B[0;34m(\u001B[0m\u001B[0;34m'📢|🚨|❗|🆘|📌|💥|!|⚠️|‼|⁉️'\u001B[0m\u001B[0;34m,\u001B[0m \u001B[0;34m' announceemoji '\u001B[0m\u001B[0;34m)\u001B[0m\u001B[0;34m\u001B[0m\u001B[0;34m\u001B[0m\u001B[0m\n",
      "\u001B[0;32m/usr/local/lib/python3.7/dist-packages/pandas/core/strings.py\u001B[0m in \u001B[0;36mwrapper\u001B[0;34m(self, *args, **kwargs)\u001B[0m\n\u001B[1;32m   1999\u001B[0m                 )\n\u001B[1;32m   2000\u001B[0m                 \u001B[0;32mraise\u001B[0m \u001B[0mTypeError\u001B[0m\u001B[0;34m(\u001B[0m\u001B[0mmsg\u001B[0m\u001B[0;34m)\u001B[0m\u001B[0;34m\u001B[0m\u001B[0;34m\u001B[0m\u001B[0m\n\u001B[0;32m-> 2001\u001B[0;31m             \u001B[0;32mreturn\u001B[0m \u001B[0mfunc\u001B[0m\u001B[0;34m(\u001B[0m\u001B[0mself\u001B[0m\u001B[0;34m,\u001B[0m \u001B[0;34m*\u001B[0m\u001B[0margs\u001B[0m\u001B[0;34m,\u001B[0m \u001B[0;34m**\u001B[0m\u001B[0mkwargs\u001B[0m\u001B[0;34m)\u001B[0m\u001B[0;34m\u001B[0m\u001B[0;34m\u001B[0m\u001B[0m\n\u001B[0m\u001B[1;32m   2002\u001B[0m \u001B[0;34m\u001B[0m\u001B[0m\n\u001B[1;32m   2003\u001B[0m         \u001B[0mwrapper\u001B[0m\u001B[0;34m.\u001B[0m\u001B[0m__name__\u001B[0m \u001B[0;34m=\u001B[0m \u001B[0mfunc_name\u001B[0m\u001B[0;34m\u001B[0m\u001B[0;34m\u001B[0m\u001B[0m\n",
      "\u001B[0;32m/usr/local/lib/python3.7/dist-packages/pandas/core/strings.py\u001B[0m in \u001B[0;36mreplace\u001B[0;34m(self, pat, repl, n, case, flags, regex)\u001B[0m\n\u001B[1;32m   2843\u001B[0m     \u001B[0;32mdef\u001B[0m \u001B[0mreplace\u001B[0m\u001B[0;34m(\u001B[0m\u001B[0mself\u001B[0m\u001B[0;34m,\u001B[0m \u001B[0mpat\u001B[0m\u001B[0;34m,\u001B[0m \u001B[0mrepl\u001B[0m\u001B[0;34m,\u001B[0m \u001B[0mn\u001B[0m\u001B[0;34m=\u001B[0m\u001B[0;34m-\u001B[0m\u001B[0;36m1\u001B[0m\u001B[0;34m,\u001B[0m \u001B[0mcase\u001B[0m\u001B[0;34m=\u001B[0m\u001B[0;32mNone\u001B[0m\u001B[0;34m,\u001B[0m \u001B[0mflags\u001B[0m\u001B[0;34m=\u001B[0m\u001B[0;36m0\u001B[0m\u001B[0;34m,\u001B[0m \u001B[0mregex\u001B[0m\u001B[0;34m=\u001B[0m\u001B[0;32mTrue\u001B[0m\u001B[0;34m)\u001B[0m\u001B[0;34m:\u001B[0m\u001B[0;34m\u001B[0m\u001B[0;34m\u001B[0m\u001B[0m\n\u001B[1;32m   2844\u001B[0m         result = str_replace(\n\u001B[0;32m-> 2845\u001B[0;31m             \u001B[0mself\u001B[0m\u001B[0;34m.\u001B[0m\u001B[0m_parent\u001B[0m\u001B[0;34m,\u001B[0m \u001B[0mpat\u001B[0m\u001B[0;34m,\u001B[0m \u001B[0mrepl\u001B[0m\u001B[0;34m,\u001B[0m \u001B[0mn\u001B[0m\u001B[0;34m=\u001B[0m\u001B[0mn\u001B[0m\u001B[0;34m,\u001B[0m \u001B[0mcase\u001B[0m\u001B[0;34m=\u001B[0m\u001B[0mcase\u001B[0m\u001B[0;34m,\u001B[0m \u001B[0mflags\u001B[0m\u001B[0;34m=\u001B[0m\u001B[0mflags\u001B[0m\u001B[0;34m,\u001B[0m \u001B[0mregex\u001B[0m\u001B[0;34m=\u001B[0m\u001B[0mregex\u001B[0m\u001B[0;34m\u001B[0m\u001B[0;34m\u001B[0m\u001B[0m\n\u001B[0m\u001B[1;32m   2846\u001B[0m         )\n\u001B[1;32m   2847\u001B[0m         \u001B[0;32mreturn\u001B[0m \u001B[0mself\u001B[0m\u001B[0;34m.\u001B[0m\u001B[0m_wrap_result\u001B[0m\u001B[0;34m(\u001B[0m\u001B[0mresult\u001B[0m\u001B[0;34m)\u001B[0m\u001B[0;34m\u001B[0m\u001B[0;34m\u001B[0m\u001B[0m\n",
      "\u001B[0;32m/usr/local/lib/python3.7/dist-packages/pandas/core/strings.py\u001B[0m in \u001B[0;36mstr_replace\u001B[0;34m(arr, pat, repl, n, case, flags, regex)\u001B[0m\n\u001B[1;32m    721\u001B[0m         \u001B[0mf\u001B[0m \u001B[0;34m=\u001B[0m \u001B[0;32mlambda\u001B[0m \u001B[0mx\u001B[0m\u001B[0;34m:\u001B[0m \u001B[0mx\u001B[0m\u001B[0;34m.\u001B[0m\u001B[0mreplace\u001B[0m\u001B[0;34m(\u001B[0m\u001B[0mpat\u001B[0m\u001B[0;34m,\u001B[0m \u001B[0mrepl\u001B[0m\u001B[0;34m,\u001B[0m \u001B[0mn\u001B[0m\u001B[0;34m)\u001B[0m\u001B[0;34m\u001B[0m\u001B[0;34m\u001B[0m\u001B[0m\n\u001B[1;32m    722\u001B[0m \u001B[0;34m\u001B[0m\u001B[0m\n\u001B[0;32m--> 723\u001B[0;31m     \u001B[0;32mreturn\u001B[0m \u001B[0m_na_map\u001B[0m\u001B[0;34m(\u001B[0m\u001B[0mf\u001B[0m\u001B[0;34m,\u001B[0m \u001B[0marr\u001B[0m\u001B[0;34m,\u001B[0m \u001B[0mdtype\u001B[0m\u001B[0;34m=\u001B[0m\u001B[0mstr\u001B[0m\u001B[0;34m)\u001B[0m\u001B[0;34m\u001B[0m\u001B[0;34m\u001B[0m\u001B[0m\n\u001B[0m\u001B[1;32m    724\u001B[0m \u001B[0;34m\u001B[0m\u001B[0m\n\u001B[1;32m    725\u001B[0m \u001B[0;34m\u001B[0m\u001B[0m\n",
      "\u001B[0;32m/usr/local/lib/python3.7/dist-packages/pandas/core/strings.py\u001B[0m in \u001B[0;36m_na_map\u001B[0;34m(f, arr, na_result, dtype)\u001B[0m\n\u001B[1;32m    128\u001B[0m     \u001B[0;32mif\u001B[0m \u001B[0mna_result\u001B[0m \u001B[0;32mis\u001B[0m \u001B[0;32mNone\u001B[0m\u001B[0;34m:\u001B[0m\u001B[0;34m\u001B[0m\u001B[0;34m\u001B[0m\u001B[0m\n\u001B[1;32m    129\u001B[0m         \u001B[0mna_result\u001B[0m \u001B[0;34m=\u001B[0m \u001B[0mnp\u001B[0m\u001B[0;34m.\u001B[0m\u001B[0mnan\u001B[0m\u001B[0;34m\u001B[0m\u001B[0;34m\u001B[0m\u001B[0m\n\u001B[0;32m--> 130\u001B[0;31m     \u001B[0;32mreturn\u001B[0m \u001B[0m_map_object\u001B[0m\u001B[0;34m(\u001B[0m\u001B[0mf\u001B[0m\u001B[0;34m,\u001B[0m \u001B[0marr\u001B[0m\u001B[0;34m,\u001B[0m \u001B[0mna_mask\u001B[0m\u001B[0;34m=\u001B[0m\u001B[0;32mTrue\u001B[0m\u001B[0;34m,\u001B[0m \u001B[0mna_value\u001B[0m\u001B[0;34m=\u001B[0m\u001B[0mna_result\u001B[0m\u001B[0;34m,\u001B[0m \u001B[0mdtype\u001B[0m\u001B[0;34m=\u001B[0m\u001B[0mdtype\u001B[0m\u001B[0;34m)\u001B[0m\u001B[0;34m\u001B[0m\u001B[0;34m\u001B[0m\u001B[0m\n\u001B[0m\u001B[1;32m    131\u001B[0m \u001B[0;34m\u001B[0m\u001B[0m\n\u001B[1;32m    132\u001B[0m \u001B[0;34m\u001B[0m\u001B[0m\n",
      "\u001B[0;32m/usr/local/lib/python3.7/dist-packages/pandas/core/strings.py\u001B[0m in \u001B[0;36m_map_object\u001B[0;34m(f, arr, na_mask, na_value, dtype)\u001B[0m\n\u001B[1;32m    213\u001B[0m         \u001B[0mconvert\u001B[0m \u001B[0;34m=\u001B[0m \u001B[0;32mnot\u001B[0m \u001B[0mnp\u001B[0m\u001B[0;34m.\u001B[0m\u001B[0mall\u001B[0m\u001B[0;34m(\u001B[0m\u001B[0mmask\u001B[0m\u001B[0;34m)\u001B[0m\u001B[0;34m\u001B[0m\u001B[0;34m\u001B[0m\u001B[0m\n\u001B[1;32m    214\u001B[0m         \u001B[0;32mtry\u001B[0m\u001B[0;34m:\u001B[0m\u001B[0;34m\u001B[0m\u001B[0;34m\u001B[0m\u001B[0m\n\u001B[0;32m--> 215\u001B[0;31m             \u001B[0mresult\u001B[0m \u001B[0;34m=\u001B[0m \u001B[0mlib\u001B[0m\u001B[0;34m.\u001B[0m\u001B[0mmap_infer_mask\u001B[0m\u001B[0;34m(\u001B[0m\u001B[0marr\u001B[0m\u001B[0;34m,\u001B[0m \u001B[0mf\u001B[0m\u001B[0;34m,\u001B[0m \u001B[0mmask\u001B[0m\u001B[0;34m.\u001B[0m\u001B[0mview\u001B[0m\u001B[0;34m(\u001B[0m\u001B[0mnp\u001B[0m\u001B[0;34m.\u001B[0m\u001B[0muint8\u001B[0m\u001B[0;34m)\u001B[0m\u001B[0;34m,\u001B[0m \u001B[0mconvert\u001B[0m\u001B[0;34m)\u001B[0m\u001B[0;34m\u001B[0m\u001B[0;34m\u001B[0m\u001B[0m\n\u001B[0m\u001B[1;32m    216\u001B[0m         \u001B[0;32mexcept\u001B[0m \u001B[0;34m(\u001B[0m\u001B[0mTypeError\u001B[0m\u001B[0;34m,\u001B[0m \u001B[0mAttributeError\u001B[0m\u001B[0;34m)\u001B[0m \u001B[0;32mas\u001B[0m \u001B[0me\u001B[0m\u001B[0;34m:\u001B[0m\u001B[0;34m\u001B[0m\u001B[0;34m\u001B[0m\u001B[0m\n\u001B[1;32m    217\u001B[0m             \u001B[0;31m# Reraise the exception if callable `f` got wrong number of args.\u001B[0m\u001B[0;34m\u001B[0m\u001B[0;34m\u001B[0m\u001B[0;34m\u001B[0m\u001B[0m\n",
      "\u001B[0;32mpandas/_libs/lib.pyx\u001B[0m in \u001B[0;36mpandas._libs.lib.map_infer_mask\u001B[0;34m()\u001B[0m\n",
      "\u001B[0;32m/usr/local/lib/python3.7/dist-packages/pandas/core/strings.py\u001B[0m in \u001B[0;36m<lambda>\u001B[0;34m(x)\u001B[0m\n\u001B[1;32m    709\u001B[0m             \u001B[0mn\u001B[0m \u001B[0;34m=\u001B[0m \u001B[0mn\u001B[0m \u001B[0;32mif\u001B[0m \u001B[0mn\u001B[0m \u001B[0;34m>=\u001B[0m \u001B[0;36m0\u001B[0m \u001B[0;32melse\u001B[0m \u001B[0;36m0\u001B[0m\u001B[0;34m\u001B[0m\u001B[0;34m\u001B[0m\u001B[0m\n\u001B[1;32m    710\u001B[0m             \u001B[0mcompiled\u001B[0m \u001B[0;34m=\u001B[0m \u001B[0mre\u001B[0m\u001B[0;34m.\u001B[0m\u001B[0mcompile\u001B[0m\u001B[0;34m(\u001B[0m\u001B[0mpat\u001B[0m\u001B[0;34m,\u001B[0m \u001B[0mflags\u001B[0m\u001B[0;34m=\u001B[0m\u001B[0mflags\u001B[0m\u001B[0;34m)\u001B[0m\u001B[0;34m\u001B[0m\u001B[0;34m\u001B[0m\u001B[0m\n\u001B[0;32m--> 711\u001B[0;31m             \u001B[0mf\u001B[0m \u001B[0;34m=\u001B[0m \u001B[0;32mlambda\u001B[0m \u001B[0mx\u001B[0m\u001B[0;34m:\u001B[0m \u001B[0mcompiled\u001B[0m\u001B[0;34m.\u001B[0m\u001B[0msub\u001B[0m\u001B[0;34m(\u001B[0m\u001B[0mrepl\u001B[0m\u001B[0;34m=\u001B[0m\u001B[0mrepl\u001B[0m\u001B[0;34m,\u001B[0m \u001B[0mstring\u001B[0m\u001B[0;34m=\u001B[0m\u001B[0mx\u001B[0m\u001B[0;34m,\u001B[0m \u001B[0mcount\u001B[0m\u001B[0;34m=\u001B[0m\u001B[0mn\u001B[0m\u001B[0;34m)\u001B[0m\u001B[0;34m\u001B[0m\u001B[0;34m\u001B[0m\u001B[0m\n\u001B[0m\u001B[1;32m    712\u001B[0m         \u001B[0;32melse\u001B[0m\u001B[0;34m:\u001B[0m\u001B[0;34m\u001B[0m\u001B[0;34m\u001B[0m\u001B[0m\n\u001B[1;32m    713\u001B[0m             \u001B[0mf\u001B[0m \u001B[0;34m=\u001B[0m \u001B[0;32mlambda\u001B[0m \u001B[0mx\u001B[0m\u001B[0;34m:\u001B[0m \u001B[0mx\u001B[0m\u001B[0;34m.\u001B[0m\u001B[0mreplace\u001B[0m\u001B[0;34m(\u001B[0m\u001B[0mpat\u001B[0m\u001B[0;34m,\u001B[0m \u001B[0mrepl\u001B[0m\u001B[0;34m,\u001B[0m \u001B[0mn\u001B[0m\u001B[0;34m)\u001B[0m\u001B[0;34m\u001B[0m\u001B[0;34m\u001B[0m\u001B[0m\n",
      "\u001B[0;31mKeyboardInterrupt\u001B[0m: "
     ]
    }
   ],
   "source": [
    "import gensim.parsing.preprocessing as gsp\n",
    "\n",
    "\n",
    "sampled['icerik'] = sampled['Text'].str.replace('@AFADBaskanlik', ' afadmention ', regex=False)\n",
    "pattern = r'(([\\+]90?)|([0]?))([ ]?)((\\([0-9]{3}\\))|([0-9]{3}))([ ]?)([0-9]{3})(\\s*[\\-]?)([0-9]{2})(\\s*[\\-]?)([0-9]{2})'\n",
    "#print([i for i in tweets_df[tweets_df['Text'].str.contains(pattern)].Text])\n",
    "sampled['Text'] = sampled['Text'].str.replace(pattern, ' contactnumber ', regex=True)\n",
    "sampled['Text'] = sampled['Text'].str.replace(r'http\\S+$', ' imagelink ')\n",
    "sampled['Text'] = sampled['Text'].str.replace('📢|🚨|❗|🆘|📌|💥|!|⚠️|‼|⁉️', ' announceemoji ')\n",
    "sampled['Text'] = sampled['Text'].str.replace('(@\\w+.*?)',\" \")\n",
    "sampled['Text'] = sampled['Text'].str.replace(r'http\\S+|www.\\S+', ' ', case=False)\n",
    "import re\n",
    "def remove_emojis(data):\n",
    "    emoj = re.compile(\"[\"\n",
    "        u\"\\U0001F600-\\U0001F64F\"  # emoticons\n",
    "        u\"\\U0001F300-\\U0001F5FF\"  # symbols & pictographs\n",
    "        u\"\\U0001F680-\\U0001F6FF\"  # transport & map symbols\n",
    "        u\"\\U0001F1E0-\\U0001F1FF\"  # flags (iOS)\n",
    "        u\"\\U00002500-\\U00002BEF\"  # chinese char\n",
    "        u\"\\U00002702-\\U000027B0\"\n",
    "        u\"\\U00002702-\\U000027B0\"\n",
    "        u\"\\U000024C2-\\U0001F251\"\n",
    "        u\"\\U0001f926-\\U0001f937\"\n",
    "        u\"\\U00010000-\\U0010ffff\"\n",
    "        u\"\\u2640-\\u2642\" \n",
    "        u\"\\u2600-\\u2B55\"\n",
    "        u\"\\u200d\"\n",
    "        u\"\\u23cf\"\n",
    "        u\"\\u23e9\"\n",
    "        u\"\\u231a\"\n",
    "        u\"\\ufe0f\"  # dingbats\n",
    "        u\"\\u3030\"\n",
    "                      \"]+\", re.UNICODE)\n",
    "    return re.sub(emoj, ' ', str(data))\n",
    "\n",
    "def correct_old_characters(self):\n",
    "    self = re.sub(r\"Â\", \"A\", self)\n",
    "    self = re.sub(r\"Î\", \"I\", self)\n",
    "    self = re.sub(r\"î\", \"ı\", self)\n",
    "    self = re.sub(r\"â\", \"a\", self)\n",
    "    self = re.sub(r\"û\", \"u\", self)\n",
    "    self = re.sub(r\"Û\", \"U\", self) # for the rest use default lower\n",
    "    return self\n",
    "\n",
    "def lower(self):\n",
    "    self = re.sub(r\"İ\", \"i\", self)\n",
    "    self = re.sub(r\"I\", \"ı\", self)\n",
    "    self = re.sub(r\"Ç\", \"ç\", self)\n",
    "    self = re.sub(r\"Ş\", \"ş\", self)\n",
    "    self = re.sub(r\"Ü\", \"ü\", self)\n",
    "    self = re.sub(r\"Ğ\", \"ğ\", self)\n",
    "    self = self.lower() # for the rest use default lower\n",
    "    return self\n",
    "\n",
    "whitelist = set('abcçdefgğhıijklmnoöpqrsştuüvwxyz ABCÇDEFGĞHIİJKLMNOÖPQRSŞTUÜVWXYZ')\n",
    "\n",
    "sampled['Text'] = sampled['Text'].apply(remove_emojis)\n",
    "sampled['Text'] = sampled['Text'].apply(correct_old_characters)\n",
    "sampled['Text'] = sampled['Text'].str.replace('(#\\w+.*?)',\" \")\n",
    "sampled['Text'] = sampled['Text'].apply(gsp.strip_multiple_whitespaces)\n",
    "sampled['Text'] = sampled['Text'].apply(lambda x: lower(x))\n",
    "sampled['Text'] = sampled['Text'].apply(lambda x: ''.join(filter(whitelist.__contains__, x)))\n",
    "sampled['Text'] = sampled['Text'].apply(gsp.strip_short)\n",
    "sampled"
   ]
  },
  {
   "cell_type": "code",
   "execution_count": 39,
   "metadata": {
    "executionInfo": {
     "elapsed": 11826,
     "status": "ok",
     "timestamp": 1642775290883,
     "user": {
      "displayName": "Reşat Yıldırım",
      "photoUrl": "https://lh3.googleusercontent.com/a/default-user=s64",
      "userId": "04239401281267054666"
     },
     "user_tz": -180
    },
    "id": "NabkSu0mC__u"
   },
   "outputs": [],
   "source": [
    "sampled.to_csv('preprocessed_aac.csv', index=False)"
   ]
  },
  {
   "cell_type": "code",
   "execution_count": 41,
   "metadata": {
    "colab": {
     "base_uri": "https://localhost:8080/",
     "height": 411
    },
    "executionInfo": {
     "elapsed": 14116,
     "status": "ok",
     "timestamp": 1642775601598,
     "user": {
      "displayName": "Reşat Yıldırım",
      "photoUrl": "https://lh3.googleusercontent.com/a/default-user=s64",
      "userId": "04239401281267054666"
     },
     "user_tz": -180
    },
    "id": "49dzqb02FGxh",
    "outputId": "9dba155f-533b-4765-c600-d366f0f12165"
   },
   "outputs": [
    {
     "data": {
      "text/html": [
       "\n",
       "  <div id=\"df-f0a7f5e2-0908-4c5a-b62e-d1b514cb4ecc\">\n",
       "    <div class=\"colab-df-container\">\n",
       "      <div>\n",
       "<style scoped>\n",
       "    .dataframe tbody tr th:only-of-type {\n",
       "        vertical-align: middle;\n",
       "    }\n",
       "\n",
       "    .dataframe tbody tr th {\n",
       "        vertical-align: top;\n",
       "    }\n",
       "\n",
       "    .dataframe thead th {\n",
       "        text-align: right;\n",
       "    }\n",
       "</style>\n",
       "<table border=\"1\" class=\"dataframe\">\n",
       "  <thead>\n",
       "    <tr style=\"text-align: right;\">\n",
       "      <th></th>\n",
       "      <th>Datetime</th>\n",
       "      <th>Text</th>\n",
       "      <th>coordinates</th>\n",
       "      <th>retweetCount</th>\n",
       "      <th>predictions</th>\n",
       "    </tr>\n",
       "  </thead>\n",
       "  <tbody>\n",
       "    <tr>\n",
       "      <th>150263</th>\n",
       "      <td>2020-10-30 15:30:01+03:00</td>\n",
       "      <td>deprem meydana gelen illerimize çok büyük geçm...</td>\n",
       "      <td>NaN</td>\n",
       "      <td>NaN</td>\n",
       "      <td>0</td>\n",
       "    </tr>\n",
       "    <tr>\n",
       "      <th>150264</th>\n",
       "      <td>2020-10-30 15:30:01+03:00</td>\n",
       "      <td>izmirde büyük deprem announceemoji imagelink</td>\n",
       "      <td>NaN</td>\n",
       "      <td>NaN</td>\n",
       "      <td>0</td>\n",
       "    </tr>\n",
       "    <tr>\n",
       "      <th>150265</th>\n",
       "      <td>2020-10-30 15:30:01+03:00</td>\n",
       "      <td>deprem için internet kullanının telefon etmeyi...</td>\n",
       "      <td>NaN</td>\n",
       "      <td>NaN</td>\n",
       "      <td>1</td>\n",
       "    </tr>\n",
       "    <tr>\n",
       "      <th>150266</th>\n",
       "      <td>2020-10-30 15:30:01+03:00</td>\n",
       "      <td>allah yardımcınız olsun umarım can kaybımız olmaz</td>\n",
       "      <td>NaN</td>\n",
       "      <td>NaN</td>\n",
       "      <td>0</td>\n",
       "    </tr>\n",
       "    <tr>\n",
       "      <th>150267</th>\n",
       "      <td>2020-10-30 15:30:01+03:00</td>\n",
       "      <td>herkese geçmiş olsun</td>\n",
       "      <td>NaN</td>\n",
       "      <td>NaN</td>\n",
       "      <td>0</td>\n",
       "    </tr>\n",
       "    <tr>\n",
       "      <th>...</th>\n",
       "      <td>...</td>\n",
       "      <td>...</td>\n",
       "      <td>...</td>\n",
       "      <td>...</td>\n",
       "      <td>...</td>\n",
       "    </tr>\n",
       "    <tr>\n",
       "      <th>886588</th>\n",
       "      <td>2020-11-04 16:29:57+03:00</td>\n",
       "      <td>rıza bey apartmanının depremde yıkılma anına i...</td>\n",
       "      <td>NaN</td>\n",
       "      <td>NaN</td>\n",
       "      <td>0</td>\n",
       "    </tr>\n",
       "    <tr>\n",
       "      <th>886589</th>\n",
       "      <td>2020-11-04 16:29:57+03:00</td>\n",
       "      <td>yaşındaki nın babası biz bir değil denetleme i...</td>\n",
       "      <td>NaN</td>\n",
       "      <td>NaN</td>\n",
       "      <td>0</td>\n",
       "    </tr>\n",
       "    <tr>\n",
       "      <th>886590</th>\n",
       "      <td>2020-11-04 16:29:57+03:00</td>\n",
       "      <td>rıza bey apartmanının depremde yıkılma anına i...</td>\n",
       "      <td>NaN</td>\n",
       "      <td>NaN</td>\n",
       "      <td>0</td>\n",
       "    </tr>\n",
       "    <tr>\n",
       "      <th>886591</th>\n",
       "      <td>2020-11-04 16:29:57+03:00</td>\n",
       "      <td>yaşındaki nın babası biz bir değil denetleme i...</td>\n",
       "      <td>NaN</td>\n",
       "      <td>NaN</td>\n",
       "      <td>0</td>\n",
       "    </tr>\n",
       "    <tr>\n",
       "      <th>886592</th>\n",
       "      <td>2020-11-04 16:29:59+03:00</td>\n",
       "      <td>dudağa mim announceemoji kalbe nun announceemo...</td>\n",
       "      <td>NaN</td>\n",
       "      <td>266.0</td>\n",
       "      <td>0</td>\n",
       "    </tr>\n",
       "  </tbody>\n",
       "</table>\n",
       "<p>736330 rows × 5 columns</p>\n",
       "</div>\n",
       "      <button class=\"colab-df-convert\" onclick=\"convertToInteractive('df-f0a7f5e2-0908-4c5a-b62e-d1b514cb4ecc')\"\n",
       "              title=\"Convert this dataframe to an interactive table.\"\n",
       "              style=\"display:none;\">\n",
       "        \n",
       "  <svg xmlns=\"http://www.w3.org/2000/svg\" height=\"24px\"viewBox=\"0 0 24 24\"\n",
       "       width=\"24px\">\n",
       "    <path d=\"M0 0h24v24H0V0z\" fill=\"none\"/>\n",
       "    <path d=\"M18.56 5.44l.94 2.06.94-2.06 2.06-.94-2.06-.94-.94-2.06-.94 2.06-2.06.94zm-11 1L8.5 8.5l.94-2.06 2.06-.94-2.06-.94L8.5 2.5l-.94 2.06-2.06.94zm10 10l.94 2.06.94-2.06 2.06-.94-2.06-.94-.94-2.06-.94 2.06-2.06.94z\"/><path d=\"M17.41 7.96l-1.37-1.37c-.4-.4-.92-.59-1.43-.59-.52 0-1.04.2-1.43.59L10.3 9.45l-7.72 7.72c-.78.78-.78 2.05 0 2.83L4 21.41c.39.39.9.59 1.41.59.51 0 1.02-.2 1.41-.59l7.78-7.78 2.81-2.81c.8-.78.8-2.07 0-2.86zM5.41 20L4 18.59l7.72-7.72 1.47 1.35L5.41 20z\"/>\n",
       "  </svg>\n",
       "      </button>\n",
       "      \n",
       "  <style>\n",
       "    .colab-df-container {\n",
       "      display:flex;\n",
       "      flex-wrap:wrap;\n",
       "      gap: 12px;\n",
       "    }\n",
       "\n",
       "    .colab-df-convert {\n",
       "      background-color: #E8F0FE;\n",
       "      border: none;\n",
       "      border-radius: 50%;\n",
       "      cursor: pointer;\n",
       "      display: none;\n",
       "      fill: #1967D2;\n",
       "      height: 32px;\n",
       "      padding: 0 0 0 0;\n",
       "      width: 32px;\n",
       "    }\n",
       "\n",
       "    .colab-df-convert:hover {\n",
       "      background-color: #E2EBFA;\n",
       "      box-shadow: 0px 1px 2px rgba(60, 64, 67, 0.3), 0px 1px 3px 1px rgba(60, 64, 67, 0.15);\n",
       "      fill: #174EA6;\n",
       "    }\n",
       "\n",
       "    [theme=dark] .colab-df-convert {\n",
       "      background-color: #3B4455;\n",
       "      fill: #D2E3FC;\n",
       "    }\n",
       "\n",
       "    [theme=dark] .colab-df-convert:hover {\n",
       "      background-color: #434B5C;\n",
       "      box-shadow: 0px 1px 3px 1px rgba(0, 0, 0, 0.15);\n",
       "      filter: drop-shadow(0px 1px 2px rgba(0, 0, 0, 0.3));\n",
       "      fill: #FFFFFF;\n",
       "    }\n",
       "  </style>\n",
       "\n",
       "      <script>\n",
       "        const buttonEl =\n",
       "          document.querySelector('#df-f0a7f5e2-0908-4c5a-b62e-d1b514cb4ecc button.colab-df-convert');\n",
       "        buttonEl.style.display =\n",
       "          google.colab.kernel.accessAllowed ? 'block' : 'none';\n",
       "\n",
       "        async function convertToInteractive(key) {\n",
       "          const element = document.querySelector('#df-f0a7f5e2-0908-4c5a-b62e-d1b514cb4ecc');\n",
       "          const dataTable =\n",
       "            await google.colab.kernel.invokeFunction('convertToInteractive',\n",
       "                                                     [key], {});\n",
       "          if (!dataTable) return;\n",
       "\n",
       "          const docLinkHtml = 'Like what you see? Visit the ' +\n",
       "            '<a target=\"_blank\" href=https://colab.research.google.com/notebooks/data_table.ipynb>data table notebook</a>'\n",
       "            + ' to learn more about interactive tables.';\n",
       "          element.innerHTML = '';\n",
       "          dataTable['output_type'] = 'display_data';\n",
       "          await google.colab.output.renderOutput(dataTable, element);\n",
       "          const docLink = document.createElement('div');\n",
       "          docLink.innerHTML = docLinkHtml;\n",
       "          element.appendChild(docLink);\n",
       "        }\n",
       "      </script>\n",
       "    </div>\n",
       "  </div>\n",
       "  "
      ],
      "text/plain": [
       "                        Datetime  ... predictions\n",
       "150263 2020-10-30 15:30:01+03:00  ...           0\n",
       "150264 2020-10-30 15:30:01+03:00  ...           0\n",
       "150265 2020-10-30 15:30:01+03:00  ...           1\n",
       "150266 2020-10-30 15:30:01+03:00  ...           0\n",
       "150267 2020-10-30 15:30:01+03:00  ...           0\n",
       "...                          ...  ...         ...\n",
       "886588 2020-11-04 16:29:57+03:00  ...           0\n",
       "886589 2020-11-04 16:29:57+03:00  ...           0\n",
       "886590 2020-11-04 16:29:57+03:00  ...           0\n",
       "886591 2020-11-04 16:29:57+03:00  ...           0\n",
       "886592 2020-11-04 16:29:59+03:00  ...           0\n",
       "\n",
       "[736330 rows x 5 columns]"
      ]
     },
     "execution_count": 41,
     "metadata": {},
     "output_type": "execute_result"
    }
   ],
   "source": [
    "sampled_2 = sampled.copy()\n",
    "\n",
    "\n",
    "sampled_2['Datetime'] = pd.to_datetime(sampled_2['Datetime'])\n",
    "\n",
    "\n",
    "sampled_2 = sampled_2[(sampled_2['Datetime'] > pd.Timestamp('2020-10-30 15:30', tz='Europe/Istanbul')) &\n",
    "\n",
    "               (sampled_2['Datetime'] < pd.Timestamp('2020-11-04 16:30', tz='Europe/Istanbul'))]\n",
    "sampled_2"
   ]
  },
  {
   "cell_type": "code",
   "execution_count": 47,
   "metadata": {
    "colab": {
     "base_uri": "https://localhost:8080/",
     "height": 411
    },
    "executionInfo": {
     "elapsed": 1069,
     "status": "ok",
     "timestamp": 1642776222499,
     "user": {
      "displayName": "Reşat Yıldırım",
      "photoUrl": "https://lh3.googleusercontent.com/a/default-user=s64",
      "userId": "04239401281267054666"
     },
     "user_tz": -180
    },
    "id": "NewSHqBkFXXL",
    "outputId": "bf2ddcd3-16d3-430b-e143-a3ede58e1453"
   },
   "outputs": [
    {
     "data": {
      "text/html": [
       "\n",
       "  <div id=\"df-73251737-7512-4694-8b43-0d8436c886dc\">\n",
       "    <div class=\"colab-df-container\">\n",
       "      <div>\n",
       "<style scoped>\n",
       "    .dataframe tbody tr th:only-of-type {\n",
       "        vertical-align: middle;\n",
       "    }\n",
       "\n",
       "    .dataframe tbody tr th {\n",
       "        vertical-align: top;\n",
       "    }\n",
       "\n",
       "    .dataframe thead th {\n",
       "        text-align: right;\n",
       "    }\n",
       "</style>\n",
       "<table border=\"1\" class=\"dataframe\">\n",
       "  <thead>\n",
       "    <tr style=\"text-align: right;\">\n",
       "      <th></th>\n",
       "      <th>Datetime</th>\n",
       "      <th>Text</th>\n",
       "      <th>coordinates</th>\n",
       "      <th>retweetCount</th>\n",
       "      <th>predictions</th>\n",
       "    </tr>\n",
       "  </thead>\n",
       "  <tbody>\n",
       "    <tr>\n",
       "      <th>150263</th>\n",
       "      <td>2020-10-30 15:30:01+03:00</td>\n",
       "      <td>deprem meydana gelen illerimize çok büyük geçm...</td>\n",
       "      <td>NaN</td>\n",
       "      <td>NaN</td>\n",
       "      <td>0</td>\n",
       "    </tr>\n",
       "    <tr>\n",
       "      <th>150264</th>\n",
       "      <td>2020-10-30 15:30:01+03:00</td>\n",
       "      <td>izmirde büyük deprem announceemoji imagelink</td>\n",
       "      <td>NaN</td>\n",
       "      <td>NaN</td>\n",
       "      <td>0</td>\n",
       "    </tr>\n",
       "    <tr>\n",
       "      <th>150265</th>\n",
       "      <td>2020-10-30 15:30:01+03:00</td>\n",
       "      <td>deprem için internet kullanının telefon etmeyi...</td>\n",
       "      <td>NaN</td>\n",
       "      <td>NaN</td>\n",
       "      <td>1</td>\n",
       "    </tr>\n",
       "    <tr>\n",
       "      <th>150266</th>\n",
       "      <td>2020-10-30 15:30:01+03:00</td>\n",
       "      <td>allah yardımcınız olsun umarım can kaybımız olmaz</td>\n",
       "      <td>NaN</td>\n",
       "      <td>NaN</td>\n",
       "      <td>0</td>\n",
       "    </tr>\n",
       "    <tr>\n",
       "      <th>150267</th>\n",
       "      <td>2020-10-30 15:30:01+03:00</td>\n",
       "      <td>herkese geçmiş olsun</td>\n",
       "      <td>NaN</td>\n",
       "      <td>NaN</td>\n",
       "      <td>0</td>\n",
       "    </tr>\n",
       "    <tr>\n",
       "      <th>...</th>\n",
       "      <td>...</td>\n",
       "      <td>...</td>\n",
       "      <td>...</td>\n",
       "      <td>...</td>\n",
       "      <td>...</td>\n",
       "    </tr>\n",
       "    <tr>\n",
       "      <th>886586</th>\n",
       "      <td>2020-11-04 16:29:54+03:00</td>\n",
       "      <td>merkür retrosunun bitmesi şerefine bir horary ...</td>\n",
       "      <td>NaN</td>\n",
       "      <td>136.0</td>\n",
       "      <td>0</td>\n",
       "    </tr>\n",
       "    <tr>\n",
       "      <th>886587</th>\n",
       "      <td>2020-11-04 16:29:56+03:00</td>\n",
       "      <td>istedikleri sadece hakları announceemoji annou...</td>\n",
       "      <td>NaN</td>\n",
       "      <td>14.0</td>\n",
       "      <td>0</td>\n",
       "    </tr>\n",
       "    <tr>\n",
       "      <th>886588</th>\n",
       "      <td>2020-11-04 16:29:57+03:00</td>\n",
       "      <td>rıza bey apartmanının depremde yıkılma anına i...</td>\n",
       "      <td>NaN</td>\n",
       "      <td>NaN</td>\n",
       "      <td>0</td>\n",
       "    </tr>\n",
       "    <tr>\n",
       "      <th>886589</th>\n",
       "      <td>2020-11-04 16:29:57+03:00</td>\n",
       "      <td>yaşındaki nın babası biz bir değil denetleme i...</td>\n",
       "      <td>NaN</td>\n",
       "      <td>NaN</td>\n",
       "      <td>0</td>\n",
       "    </tr>\n",
       "    <tr>\n",
       "      <th>886592</th>\n",
       "      <td>2020-11-04 16:29:59+03:00</td>\n",
       "      <td>dudağa mim announceemoji kalbe nun announceemo...</td>\n",
       "      <td>NaN</td>\n",
       "      <td>266.0</td>\n",
       "      <td>0</td>\n",
       "    </tr>\n",
       "  </tbody>\n",
       "</table>\n",
       "<p>449676 rows × 5 columns</p>\n",
       "</div>\n",
       "      <button class=\"colab-df-convert\" onclick=\"convertToInteractive('df-73251737-7512-4694-8b43-0d8436c886dc')\"\n",
       "              title=\"Convert this dataframe to an interactive table.\"\n",
       "              style=\"display:none;\">\n",
       "        \n",
       "  <svg xmlns=\"http://www.w3.org/2000/svg\" height=\"24px\"viewBox=\"0 0 24 24\"\n",
       "       width=\"24px\">\n",
       "    <path d=\"M0 0h24v24H0V0z\" fill=\"none\"/>\n",
       "    <path d=\"M18.56 5.44l.94 2.06.94-2.06 2.06-.94-2.06-.94-.94-2.06-.94 2.06-2.06.94zm-11 1L8.5 8.5l.94-2.06 2.06-.94-2.06-.94L8.5 2.5l-.94 2.06-2.06.94zm10 10l.94 2.06.94-2.06 2.06-.94-2.06-.94-.94-2.06-.94 2.06-2.06.94z\"/><path d=\"M17.41 7.96l-1.37-1.37c-.4-.4-.92-.59-1.43-.59-.52 0-1.04.2-1.43.59L10.3 9.45l-7.72 7.72c-.78.78-.78 2.05 0 2.83L4 21.41c.39.39.9.59 1.41.59.51 0 1.02-.2 1.41-.59l7.78-7.78 2.81-2.81c.8-.78.8-2.07 0-2.86zM5.41 20L4 18.59l7.72-7.72 1.47 1.35L5.41 20z\"/>\n",
       "  </svg>\n",
       "      </button>\n",
       "      \n",
       "  <style>\n",
       "    .colab-df-container {\n",
       "      display:flex;\n",
       "      flex-wrap:wrap;\n",
       "      gap: 12px;\n",
       "    }\n",
       "\n",
       "    .colab-df-convert {\n",
       "      background-color: #E8F0FE;\n",
       "      border: none;\n",
       "      border-radius: 50%;\n",
       "      cursor: pointer;\n",
       "      display: none;\n",
       "      fill: #1967D2;\n",
       "      height: 32px;\n",
       "      padding: 0 0 0 0;\n",
       "      width: 32px;\n",
       "    }\n",
       "\n",
       "    .colab-df-convert:hover {\n",
       "      background-color: #E2EBFA;\n",
       "      box-shadow: 0px 1px 2px rgba(60, 64, 67, 0.3), 0px 1px 3px 1px rgba(60, 64, 67, 0.15);\n",
       "      fill: #174EA6;\n",
       "    }\n",
       "\n",
       "    [theme=dark] .colab-df-convert {\n",
       "      background-color: #3B4455;\n",
       "      fill: #D2E3FC;\n",
       "    }\n",
       "\n",
       "    [theme=dark] .colab-df-convert:hover {\n",
       "      background-color: #434B5C;\n",
       "      box-shadow: 0px 1px 3px 1px rgba(0, 0, 0, 0.15);\n",
       "      filter: drop-shadow(0px 1px 2px rgba(0, 0, 0, 0.3));\n",
       "      fill: #FFFFFF;\n",
       "    }\n",
       "  </style>\n",
       "\n",
       "      <script>\n",
       "        const buttonEl =\n",
       "          document.querySelector('#df-73251737-7512-4694-8b43-0d8436c886dc button.colab-df-convert');\n",
       "        buttonEl.style.display =\n",
       "          google.colab.kernel.accessAllowed ? 'block' : 'none';\n",
       "\n",
       "        async function convertToInteractive(key) {\n",
       "          const element = document.querySelector('#df-73251737-7512-4694-8b43-0d8436c886dc');\n",
       "          const dataTable =\n",
       "            await google.colab.kernel.invokeFunction('convertToInteractive',\n",
       "                                                     [key], {});\n",
       "          if (!dataTable) return;\n",
       "\n",
       "          const docLinkHtml = 'Like what you see? Visit the ' +\n",
       "            '<a target=\"_blank\" href=https://colab.research.google.com/notebooks/data_table.ipynb>data table notebook</a>'\n",
       "            + ' to learn more about interactive tables.';\n",
       "          element.innerHTML = '';\n",
       "          dataTable['output_type'] = 'display_data';\n",
       "          await google.colab.output.renderOutput(dataTable, element);\n",
       "          const docLink = document.createElement('div');\n",
       "          docLink.innerHTML = docLinkHtml;\n",
       "          element.appendChild(docLink);\n",
       "        }\n",
       "      </script>\n",
       "    </div>\n",
       "  </div>\n",
       "  "
      ],
      "text/plain": [
       "                        Datetime  ... predictions\n",
       "150263 2020-10-30 15:30:01+03:00  ...           0\n",
       "150264 2020-10-30 15:30:01+03:00  ...           0\n",
       "150265 2020-10-30 15:30:01+03:00  ...           1\n",
       "150266 2020-10-30 15:30:01+03:00  ...           0\n",
       "150267 2020-10-30 15:30:01+03:00  ...           0\n",
       "...                          ...  ...         ...\n",
       "886586 2020-11-04 16:29:54+03:00  ...           0\n",
       "886587 2020-11-04 16:29:56+03:00  ...           0\n",
       "886588 2020-11-04 16:29:57+03:00  ...           0\n",
       "886589 2020-11-04 16:29:57+03:00  ...           0\n",
       "886592 2020-11-04 16:29:59+03:00  ...           0\n",
       "\n",
       "[449676 rows x 5 columns]"
      ]
     },
     "execution_count": 47,
     "metadata": {},
     "output_type": "execute_result"
    }
   ],
   "source": [
    "sampled_2 = sampled_2.drop_duplicates(subset=['Text'])\n",
    "sampled_2"
   ]
  },
  {
   "cell_type": "code",
   "execution_count": 50,
   "metadata": {
    "colab": {
     "base_uri": "https://localhost:8080/"
    },
    "executionInfo": {
     "elapsed": 11621,
     "status": "ok",
     "timestamp": 1642776336837,
     "user": {
      "displayName": "Reşat Yıldırım",
      "photoUrl": "https://lh3.googleusercontent.com/a/default-user=s64",
      "userId": "04239401281267054666"
     },
     "user_tz": -180
    },
    "id": "WGwNugk0fna6",
    "outputId": "0dd3e1b9-d329-4f31-9193-fc977532e2c2"
   },
   "outputs": [
    {
     "data": {
      "text/plain": [
       "[(0,\n",
       "  '0.039*\"imagelink\" + 0.023*\"announceemoji\" + 0.011*\"lütfen\" + 0.005*\"izmir\" + 0.004*\"destek\" + 0.004*\"enkaz\" + 0.004*\"arkadaşlar\" + 0.003*\"altında\" + 0.003*\"yardım\" + 0.003*\"bey\"')]"
      ]
     },
     "execution_count": 50,
     "metadata": {},
     "output_type": "execute_result"
    }
   ],
   "source": [
    "from gensim.models.ldamodel import LdaModel\n",
    "from gensim.corpora import Dictionary\n",
    "import nltk\n",
    "import warnings\n",
    "\n",
    "\n",
    "warnings.filterwarnings(\"ignore\", category=DeprecationWarning)\n",
    "\n",
    "\n",
    "\n",
    "def remove_commonwords(text):\n",
    "  word_tokens = nltk.word_tokenize(text)\n",
    "  filtered_text = [word for word in word_tokens if word not in common_words]\n",
    "  return ' '.join(filtered_text)\n",
    "\n",
    "common_words = ['deprem', 'ol', 'biz', 'allah', 'değil', \n",
    "                'var', 'yap', 'büyük', 'geçmiş', 'izmir', \n",
    "                'olur', 'değil', 'gel', 'insan', 'ben',\n",
    "                'olmuş', 'iyi', 'kadar', 'herkes', 'al',\n",
    "                'önce', 'gele', 'yok', 'sonra', 'olmaz',\n",
    "                'siz', 'bun', 'rab', 'et', 'açıkla', 'ülke',\n",
    "                'git', 'edi', 'kendi', 'istanbul', 'çalış',\n",
    "                'd', 'vergile', 'artık', 'türkiye', 'meydan', \n",
    "                'af', 'devlet', 'bile', 'yapı', 'kal', 'ege',\n",
    "                'deniz', 'vatandaş', 'hisset', 'salla', 'son'\n",
    "                'inşallah', 'ilçe', 'yer', 'umar', 'dilek',\n",
    "                'etkile', 'dil', 'böyle', 'gün', 'de', 'elazığ',\n",
    "                'devam', 'arkadaş', 'yine', 'kişi', 'dua', 'm',\n",
    "                'ileti', 'mühendis', 'ülkem', 'çevre', 'veri', \n",
    "                'ver', 'para', 'millet', 'halk', 'saat', 'şiddet',\n",
    "                'zaman', 'yıl', 'binal', 'vergi', 'konuş', 'son',\n",
    "                'belediye', 'durum', 'düşün', 'ede', 'alan', 'iş',\n",
    "                'bölge', 'haber', 'güzel', 'gör', #'topla', 'koru',\n",
    "                'acı', 'dem', 'konu', 'yeni', 'chp', 'için', 'var',\n",
    "                'bir'   \n",
    "                ]\n",
    "\n",
    "common_words = ['deprem', 'için', 'var', 'bir', 'hala', 'çok', \n",
    "                'olan', 'tüm', 'her', 'kadar', 'olarak', 'nasıl','aynı',\n",
    "                'değil','daha','ama','insan','oldu','olur','yok', 'gibi',\n",
    "                'biz', 'sonra', 'böyle', 'şey', 'diye', 'iyi', 'ile', 'bile',\n",
    "                'ben', 'sadece', 'gerçekten', 'olun', 'olmuş', 'siz',\n",
    "                'olacak', 'bunu', 'artık', 'herkes', 'dediniz', 'zina',\n",
    "                'şimdi', 'bunlar', 'depremi', 'sen', 'kürt', 'sizi', 'tek',\n",
    "                'elazığda', 'etmeyin', 'hiç', 'oluyor', 'yine', 'izmirde',\n",
    "                'sizin', 'olduğu', 'bunun', 'son', 'konuşuyoruz'\n",
    "                ]\n",
    "\n",
    "\n",
    "\n",
    "clean_tweets = sampled_2[sampled_2['predictions']==1]['Text'].dropna().apply(remove_commonwords)\n",
    "\n",
    "\n",
    "words_of_tweets = [str(tweet).split(' ') for tweet in clean_tweets]\n",
    "\n",
    "\n",
    "\n",
    "text_dict = Dictionary(words_of_tweets)\n",
    "\n",
    "#text_dict.filter_extremes(no_below=10, no_above=0.2)\n",
    "\n",
    "tweets_bow = [text_dict.doc2bow(words_of_tweet) for words_of_tweet in words_of_tweets]\n",
    "\n",
    "\n",
    "\n",
    "k = 1\n",
    "tweets_lda = LdaModel(tweets_bow,\n",
    "num_topics = k,\n",
    "id2word = text_dict)\n",
    "\n",
    "\n",
    "\n",
    "tweets_lda.show_topics()"
   ]
  },
  {
   "cell_type": "code",
   "execution_count": 51,
   "metadata": {
    "colab": {
     "base_uri": "https://localhost:8080/"
    },
    "executionInfo": {
     "elapsed": 146273,
     "status": "ok",
     "timestamp": 1642776578670,
     "user": {
      "displayName": "Reşat Yıldırım",
      "photoUrl": "https://lh3.googleusercontent.com/a/default-user=s64",
      "userId": "04239401281267054666"
     },
     "user_tz": -180
    },
    "id": "UTW66elRGmuE",
    "outputId": "0350cdb2-364a-4b51-ab20-02dd8637b8f3"
   },
   "outputs": [
    {
     "data": {
      "text/plain": [
       "[(0,\n",
       "  '0.039*\"imagelink\" + 0.023*\"announceemoji\" + 0.011*\"lütfen\" + 0.005*\"izmir\" + 0.004*\"destek\" + 0.004*\"enkaz\" + 0.004*\"arkadaşlar\" + 0.003*\"altında\" + 0.003*\"yardım\" + 0.003*\"bey\"')]"
      ]
     },
     "execution_count": 51,
     "metadata": {},
     "output_type": "execute_result"
    }
   ],
   "source": [
    "from gensim.models.ldamodel import LdaModel\n",
    "from gensim.corpora import Dictionary\n",
    "import nltk\n",
    "import warnings\n",
    "\n",
    "\n",
    "warnings.filterwarnings(\"ignore\", category=DeprecationWarning)\n",
    "\n",
    "\n",
    "\n",
    "def remove_commonwords(text):\n",
    "  word_tokens = nltk.word_tokenize(text)\n",
    "  filtered_text = [word for word in word_tokens if word not in common_words]\n",
    "  return ' '.join(filtered_text)\n",
    "\n",
    "common_words = ['deprem', 'ol', 'biz', 'allah', 'değil', \n",
    "                'var', 'yap', 'büyük', 'geçmiş', 'izmir', \n",
    "                'olur', 'değil', 'gel', 'insan', 'ben',\n",
    "                'olmuş', 'iyi', 'kadar', 'herkes', 'al',\n",
    "                'önce', 'gele', 'yok', 'sonra', 'olmaz',\n",
    "                'siz', 'bun', 'rab', 'et', 'açıkla', 'ülke',\n",
    "                'git', 'edi', 'kendi', 'istanbul', 'çalış',\n",
    "                'd', 'vergile', 'artık', 'türkiye', 'meydan', \n",
    "                'af', 'devlet', 'bile', 'yapı', 'kal', 'ege',\n",
    "                'deniz', 'vatandaş', 'hisset', 'salla', 'son'\n",
    "                'inşallah', 'ilçe', 'yer', 'umar', 'dilek',\n",
    "                'etkile', 'dil', 'böyle', 'gün', 'de', 'elazığ',\n",
    "                'devam', 'arkadaş', 'yine', 'kişi', 'dua', 'm',\n",
    "                'ileti', 'mühendis', 'ülkem', 'çevre', 'veri', \n",
    "                'ver', 'para', 'millet', 'halk', 'saat', 'şiddet',\n",
    "                'zaman', 'yıl', 'binal', 'vergi', 'konuş', 'son',\n",
    "                'belediye', 'durum', 'düşün', 'ede', 'alan', 'iş',\n",
    "                'bölge', 'haber', 'güzel', 'gör', #'topla', 'koru',\n",
    "                'acı', 'dem', 'konu', 'yeni', 'chp', 'için', 'var',\n",
    "                'bir'   \n",
    "                ]\n",
    "\n",
    "common_words = ['deprem', 'için', 'var', 'bir', 'hala', 'çok', \n",
    "                'olan', 'tüm', 'her', 'kadar', 'olarak', 'nasıl','aynı',\n",
    "                'değil','daha','ama','insan','oldu','olur','yok', 'gibi',\n",
    "                'biz', 'sonra', 'böyle', 'şey', 'diye', 'iyi', 'ile', 'bile',\n",
    "                'ben', 'sadece', 'gerçekten', 'olun', 'olmuş', 'siz',\n",
    "                'olacak', 'bunu', 'artık', 'herkes', 'dediniz', 'zina',\n",
    "                'şimdi', 'bunlar', 'depremi', 'sen', 'kürt', 'sizi', 'tek',\n",
    "                'elazığda', 'etmeyin', 'hiç', 'oluyor', 'yine', 'izmirde',\n",
    "                'sizin', 'olduğu', 'bunun', 'son', 'konuşuyoruz'\n",
    "                ]\n",
    "\n",
    "\n",
    "\n",
    "clean_tweets = sampled_2[sampled_2['predictions']==0]['Text'].dropna().apply(remove_commonwords)\n",
    "\n",
    "\n",
    "words_of_tweets = [str(tweet).split(' ') for tweet in clean_tweets]\n",
    "\n",
    "\n",
    "\n",
    "text_dict = Dictionary(words_of_tweets)\n",
    "\n",
    "#text_dict.filter_extremes(no_below=10, no_above=0.2)\n",
    "\n",
    "tweets_bow = [text_dict.doc2bow(words_of_tweet) for words_of_tweet in words_of_tweets]\n",
    "\n",
    "\n",
    "\n",
    "k = 1\n",
    "tweets_lda_nr = LdaModel(tweets_bow,\n",
    "num_topics = k,\n",
    "id2word = text_dict)\n",
    "\n",
    "\n",
    "\n",
    "tweets_lda_nr.show_topics()"
   ]
  },
  {
   "cell_type": "code",
   "execution_count": null,
   "metadata": {
    "id": "CUf6oOOi3K-C"
   },
   "outputs": [],
   "source": [
    "import re\n",
    "\n",
    "lda_outputs = []\n",
    "lda_outputs_nr = []\n",
    "for i in [10,15,20,25,50]:\n",
    "  #print(tweets_lda.print_topics(num_topics=2, num_words=i))\n",
    "  lda_outputs.append(gsp.strip_multiple_whitespaces(' '.join(re.findall(r'[a-zA-ZğüşöçıİĞÜŞÖÇ]*',tweets_lda.print_topics(num_topics=1, num_words=i)[0][1]))).split(' '))\n",
    "  lda_outputs_nr.append(gsp.strip_multiple_whitespaces(' '.join(re.findall(r'[a-zA-ZğüşöçıİĞÜŞÖÇ]*',tweets_lda_nr.print_topics(num_topics=1, num_words=i)[0][1]))).split(' '))\n",
    "\n",
    "lda_outputs\n",
    "lda_outputs_nr"
   ]
  },
  {
   "cell_type": "code",
   "execution_count": null,
   "metadata": {
    "id": "dnjX1gJ_-rGi"
   },
   "outputs": [],
   "source": [
    "[item for sublist in lda_outputs for item in sublist]"
   ]
  },
  {
   "cell_type": "code",
   "execution_count": 54,
   "metadata": {
    "executionInfo": {
     "elapsed": 462,
     "status": "ok",
     "timestamp": 1642776654106,
     "user": {
      "displayName": "Reşat Yıldırım",
      "photoUrl": "https://lh3.googleusercontent.com/a/default-user=s64",
      "userId": "04239401281267054666"
     },
     "user_tz": -180
    },
    "id": "QRQpMUrx72zd"
   },
   "outputs": [],
   "source": [
    "pd.DataFrame(zip([item for sublist in lda_outputs for item in sublist], [item for sublist in lda_outputs_nr for item in sublist])).to_excel('aac.xlsx')"
   ]
  },
  {
   "cell_type": "code",
   "execution_count": null,
   "metadata": {
    "id": "AwkEwLA6_kmY"
   },
   "outputs": [],
   "source": [
    "!pip3 install pyLDAvis"
   ]
  },
  {
   "cell_type": "code",
   "execution_count": 34,
   "metadata": {
    "colab": {
     "base_uri": "https://localhost:8080/",
     "height": 356
    },
    "executionInfo": {
     "elapsed": 329,
     "status": "error",
     "timestamp": 1642774985531,
     "user": {
      "displayName": "Reşat Yıldırım",
      "photoUrl": "https://lh3.googleusercontent.com/a/default-user=s64",
      "userId": "04239401281267054666"
     },
     "user_tz": -180
    },
    "id": "OQ1tRubPxw_Q",
    "outputId": "e5719959-7eb4-443a-b021-5eb475aeac62"
   },
   "outputs": [
    {
     "ename": "ModuleNotFoundError",
     "errorDetails": {
      "actions": [
       {
        "action": "open_url",
        "actionText": "Open Examples",
        "url": "/notebooks/snippets/importing_libraries.ipynb"
       }
      ]
     },
     "evalue": "ignored",
     "output_type": "error",
     "traceback": [
      "\u001B[0;31m---------------------------------------------------------------------------\u001B[0m",
      "\u001B[0;31mModuleNotFoundError\u001B[0m                       Traceback (most recent call last)",
      "\u001B[0;32m<ipython-input-34-9734adcd30ad>\u001B[0m in \u001B[0;36m<module>\u001B[0;34m()\u001B[0m\n\u001B[0;32m----> 1\u001B[0;31m \u001B[0;32mimport\u001B[0m \u001B[0mpyLDAvis\u001B[0m\u001B[0;34m\u001B[0m\u001B[0;34m\u001B[0m\u001B[0m\n\u001B[0m\u001B[1;32m      2\u001B[0m \u001B[0;32mimport\u001B[0m \u001B[0mpyLDAvis\u001B[0m\u001B[0;34m.\u001B[0m\u001B[0mgensim_models\u001B[0m \u001B[0;32mas\u001B[0m \u001B[0mgensimvis\u001B[0m\u001B[0;34m\u001B[0m\u001B[0;34m\u001B[0m\u001B[0m\n\u001B[1;32m      3\u001B[0m \u001B[0;34m\u001B[0m\u001B[0m\n\u001B[1;32m      4\u001B[0m \u001B[0mpyLDAvis\u001B[0m\u001B[0;34m.\u001B[0m\u001B[0menable_notebook\u001B[0m\u001B[0;34m(\u001B[0m\u001B[0;34m)\u001B[0m\u001B[0;34m\u001B[0m\u001B[0;34m\u001B[0m\u001B[0m\n\u001B[1;32m      5\u001B[0m \u001B[0;34m\u001B[0m\u001B[0m\n",
      "\u001B[0;31mModuleNotFoundError\u001B[0m: No module named 'pyLDAvis'",
      "",
      "\u001B[0;31m---------------------------------------------------------------------------\u001B[0;32m\nNOTE: If your import is failing due to a missing package, you can\nmanually install dependencies using either !pip or !apt.\n\nTo view examples of installing some common dependencies, click the\n\"Open Examples\" button below.\n\u001B[0;31m---------------------------------------------------------------------------\u001B[0m\n"
     ]
    }
   ],
   "source": [
    "import pyLDAvis\n",
    "import pyLDAvis.gensim_models as gensimvis\n",
    "\n",
    "pyLDAvis.enable_notebook()\n",
    "\n",
    "# feed the LDA model into the pyLDAvis instance\n",
    "lda_viz = gensimvis.prepare(tweets_lda, tweets_bow, text_dict)\n",
    "\n",
    "#pyLDAvis.enable_notebook()\n",
    "pyLDAvis.display(lda_viz)\n",
    "#pyLDAvis.save_html(lda_viz, 'output_filename_aac_1_day.html')"
   ]
  },
  {
   "cell_type": "code",
   "execution_count": 75,
   "metadata": {
    "executionInfo": {
     "elapsed": 290,
     "status": "ok",
     "timestamp": 1642444219144,
     "user": {
      "displayName": "Reşat Yıldırım",
      "photoUrl": "https://lh3.googleusercontent.com/a/default-user=s64",
      "userId": "04239401281267054666"
     },
     "user_tz": -180
    },
    "id": "Z7UfOm9jEZyf"
   },
   "outputs": [],
   "source": [
    "pyLDAvis.save_html(lda_viz, 'output_filename_aac_3_day.html')"
   ]
  },
  {
   "cell_type": "code",
   "execution_count": null,
   "metadata": {
    "id": "88Tgw3X_14LH"
   },
   "outputs": [],
   "source": [
    "from google.colab import drive\n",
    "drive.mount('/content/drive')"
   ]
  }
 ],
 "metadata": {
  "colab": {
   "authorship_tag": "ABX9TyNQHO1FqvI0OcxaesdWdn0m",
   "name": "topic_modeling.ipynb",
   "provenance": []
  },
  "kernelspec": {
   "display_name": "Python 3",
   "language": "python",
   "name": "python3"
  },
  "language_info": {
   "codemirror_mode": {
    "name": "ipython",
    "version": 3
   },
   "file_extension": ".py",
   "mimetype": "text/x-python",
   "name": "python",
   "nbconvert_exporter": "python",
   "pygments_lexer": "ipython3",
   "version": "3.8.0"
  }
 },
 "nbformat": 4,
 "nbformat_minor": 1
}